{
 "cells": [
  {
   "cell_type": "markdown",
   "metadata": {},
   "source": [
    "## Imports\n",
    "\n",
    "* `os` or listing directories of resume docs.\n",
    "* `textract` as a tool for reading .doc, .docx.\n",
    "* `numpy` for dealing with numpy arrays.\n",
    "* `pandas` for making DataFrames.\n",
    "* `sklearn` for vectorizing text, applying models, analyzing results.\n",
    "* `sklearn-pandas` for a very useful DataFrameMapper tool."
   ]
  },
  {
   "cell_type": "code",
   "execution_count": 1,
   "metadata": {},
   "outputs": [],
   "source": [
    "import os\n",
    "import textract\n",
    "import numpy as np\n",
    "import pandas as pd\n",
    "import sklearn_pandas as skpd\n",
    "from sklearn.pipeline import Pipeline\n",
    "from sklearn.preprocessing import FunctionTransformer\n",
    "from sklearn.feature_extraction.text import TfidfVectorizer\n",
    "from sklearn.linear_model import LogisticRegression\n",
    "from sklearn.model_selection import train_test_split, cross_val_predict\n",
    "from sklearn import metrics"
   ]
  },
  {
   "cell_type": "markdown",
   "metadata": {},
   "source": [
    "## Read the docs\n",
    "\n",
    "Assuming we have 4 labels:\n",
    "\n",
    "* web_dev - for web developers\n",
    "* dev - for other developers\n",
    "* embed - for embedded developers\n",
    "\n",
    "* neither - get some resumes where none of the above apply\n",
    "\n",
    "Let's construct a data set:\n",
    "\n",
    "**Note**\n",
    "The `./doc` folder is just full of copies of my resume, so our classification isn't going to be useful. You'll need to obtain a diverse set of resumes. The more, the better."
   ]
  },
  {
   "cell_type": "code",
   "execution_count": 2,
   "metadata": {},
   "outputs": [],
   "source": [
    "y_labels = ('web_dev', 'dev', 'embed', 'neither')\n",
    "\n",
    "def process_docs(path, label):\n",
    "    docs = os.listdir(path)\n",
    "    data = []\n",
    "    for doc in docs:\n",
    "        if not doc.split('.')[1].startswith('doc'):\n",
    "            continue\n",
    "        try:\n",
    "            text = textract.process(f'{path}/{doc}')\n",
    "            data.append({'label': label, 'text': str(text)})\n",
    "        except textract.exceptions.ShellError as e:\n",
    "            print(f'{doc} is too small', e)\n",
    "    return data\n",
    "\n",
    "\n",
    "data = []\n",
    "for label in y_labels:\n",
    "    data.extend(process_docs(f'./doc/{label}', label))\n",
    "df = pd.DataFrame(data)"
   ]
  },
  {
   "cell_type": "markdown",
   "metadata": {},
   "source": [
    "## Training & Testing\n",
    "\n",
    "Here we split our data set into a training set and a test set to help validate that training set."
   ]
  },
  {
   "cell_type": "code",
   "execution_count": 3,
   "metadata": {},
   "outputs": [],
   "source": [
    "train, test = train_test_split(df, test_size=0.4)\n",
    "\n",
    "# Labels must be identical in train and test set. Increase test_size if they are not.\n",
    "assert set(train['label']) == set(test['label']) == set(y_labels)"
   ]
  },
  {
   "cell_type": "markdown",
   "metadata": {},
   "source": [
    "## Vectorize text and boost important terms\n",
    "\n",
    "Here we use a DataFrameMapper, a class for mapping pandas data frame columns to different sklearn transformations to vectorize our text and boost the importance of certain terms."
   ]
  },
  {
   "cell_type": "code",
   "execution_count": 4,
   "metadata": {},
   "outputs": [],
   "source": [
    "def boost_terms(X, y=None):\n",
    "    terms = ['html', 'css', 'javascript']\n",
    "    rows = X.shape[0]\n",
    "    results = np.zeros((rows, 1))\n",
    "    for i in range(rows):\n",
    "        value = X[i, 0].lower()\n",
    "        if any(term in value for term in terms):\n",
    "            results[i] = 1  # Increase feature weight\n",
    "    return results\n",
    "\n",
    "\n",
    "tfidf = TfidfVectorizer(ngram_range=(1, 1), max_features=1000)\n",
    "boost = FunctionTransformer(boost_terms, validate=False)\n",
    "\n",
    "preprocess = skpd.DataFrameMapper([\n",
    "    ('text', tfidf),\n",
    "    (['text'], boost),\n",
    "])"
   ]
  },
  {
   "cell_type": "markdown",
   "metadata": {},
   "source": [
    "## Apply logistic regression\n",
    "\n",
    "Since we have multiple labels, we're using multinomial classification in our logistic regression:"
   ]
  },
  {
   "cell_type": "code",
   "execution_count": 5,
   "metadata": {
    "scrolled": false
   },
   "outputs": [
    {
     "name": "stdout",
     "output_type": "stream",
     "text": [
      "Done.\n"
     ]
    }
   ],
   "source": [
    "lr = LogisticRegression(solver='lbfgs', max_iter=10000, multi_class='multinomial', class_weight='balanced')\n",
    "steps = (\n",
    "    ('preprocess', preprocess), \n",
    "    ('lr', lr),\n",
    ")\n",
    "pipe = Pipeline(steps=steps)\n",
    "pipe.fit(train, train['label'])\n",
    "print('Done.')"
   ]
  },
  {
   "cell_type": "markdown",
   "metadata": {},
   "source": [
    "## Let's try it out\n",
    "\n",
    "You could read a new doc into memory and attempt to classify. I'm just going to use this string literal here:"
   ]
  },
  {
   "cell_type": "code",
   "execution_count": 6,
   "metadata": {},
   "outputs": [
    {
     "data": {
      "text/html": [
       "<div>\n",
       "<style scoped>\n",
       "    .dataframe tbody tr th:only-of-type {\n",
       "        vertical-align: middle;\n",
       "    }\n",
       "\n",
       "    .dataframe tbody tr th {\n",
       "        vertical-align: top;\n",
       "    }\n",
       "\n",
       "    .dataframe thead th {\n",
       "        text-align: right;\n",
       "    }\n",
       "</style>\n",
       "<table border=\"1\" class=\"dataframe\">\n",
       "  <thead>\n",
       "    <tr style=\"text-align: right;\">\n",
       "      <th></th>\n",
       "      <th>web_dev</th>\n",
       "      <th>dev</th>\n",
       "      <th>embed</th>\n",
       "      <th>neither</th>\n",
       "    </tr>\n",
       "  </thead>\n",
       "  <tbody>\n",
       "    <tr>\n",
       "      <th>0</th>\n",
       "      <td>0.25</td>\n",
       "      <td>0.25</td>\n",
       "      <td>0.25</td>\n",
       "      <td>0.25</td>\n",
       "    </tr>\n",
       "  </tbody>\n",
       "</table>\n",
       "</div>"
      ],
      "text/plain": [
       "   web_dev   dev  embed  neither\n",
       "0     0.25  0.25   0.25     0.25"
      ]
     },
     "execution_count": 6,
     "metadata": {},
     "output_type": "execute_result"
    }
   ],
   "source": [
    "trial = pd.DataFrame([{'text': 'I love python and machine learning', 'label': ''}])\n",
    "pd.DataFrame(pipe.predict_proba(trial), columns=y_labels)"
   ]
  },
  {
   "cell_type": "code",
   "execution_count": 7,
   "metadata": {},
   "outputs": [
    {
     "name": "stdout",
     "output_type": "stream",
     "text": [
      "Prediction:  dev\n"
     ]
    }
   ],
   "source": [
    "print('Prediction: ', pipe.predict(trial)[0])"
   ]
  },
  {
   "cell_type": "markdown",
   "metadata": {},
   "source": [
    "## Conclusion\n",
    "\n",
    "As you can see, my training set is identical, so classification is pretty useless. If you get a bunch of resumes and load them up with this process, it will be able to classify whether or not the resume belongs to a web dev, dev, embedded dev, or another profession."
   ]
  },
  {
   "cell_type": "code",
   "execution_count": 8,
   "metadata": {},
   "outputs": [
    {
     "name": "stdout",
     "output_type": "stream",
     "text": [
      "              precision    recall  f1-score   support\n",
      "\n",
      "         dev       0.38      1.00      0.55         6\n",
      "       embed       0.00      0.00      0.00         4\n",
      "     neither       0.00      0.00      0.00         4\n",
      "     web_dev       0.00      0.00      0.00         2\n",
      "\n",
      "    accuracy                           0.38        16\n",
      "   macro avg       0.09      0.25      0.14        16\n",
      "weighted avg       0.14      0.38      0.20        16\n",
      "\n"
     ]
    },
    {
     "name": "stderr",
     "output_type": "stream",
     "text": [
      "/home/dan/src/resume_classifier/venv/lib/python3.6/site-packages/sklearn/metrics/classification.py:1437: UndefinedMetricWarning: Precision and F-score are ill-defined and being set to 0.0 in labels with no predicted samples.\n",
      "  'precision', 'predicted', average, warn_for)\n"
     ]
    }
   ],
   "source": [
    "y_true, y_pred = test['label'], pipe.predict(test)\n",
    "print(metrics.classification_report(y_true, y_pred))"
   ]
  },
  {
   "cell_type": "code",
   "execution_count": null,
   "metadata": {},
   "outputs": [],
   "source": []
  }
 ],
 "metadata": {
  "kernelspec": {
   "display_name": "Python 3",
   "language": "python",
   "name": "python3"
  },
  "language_info": {
   "codemirror_mode": {
    "name": "ipython",
    "version": 3
   },
   "file_extension": ".py",
   "mimetype": "text/x-python",
   "name": "python",
   "nbconvert_exporter": "python",
   "pygments_lexer": "ipython3",
   "version": "3.6.8"
  }
 },
 "nbformat": 4,
 "nbformat_minor": 2
}
