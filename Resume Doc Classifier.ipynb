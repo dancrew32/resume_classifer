{
 "cells": [
  {
   "cell_type": "markdown",
   "metadata": {},
   "source": [
    "## Imports\n",
    "\n",
    "* `os` or listing directories of resume docs.\n",
    "* `textract` as a tool for reading .doc, .docx\n",
    "* `pandas` for making DataFrames\n",
    "* `sklearn` for vectorizing text, applying models, analyzing results."
   ]
  },
  {
   "cell_type": "code",
   "execution_count": 1,
   "metadata": {},
   "outputs": [],
   "source": [
    "import os\n",
    "import textract\n",
    "import pandas as pd\n",
    "from sklearn.pipeline import Pipeline\n",
    "from sklearn.preprocessing import FunctionTransformer\n",
    "from sklearn.feature_extraction.text import TfidfVectorizer\n",
    "from sklearn.linear_model import LogisticRegression\n",
    "from sklearn.model_selection import train_test_split, cross_val_predict\n",
    "from sklearn import metrics"
   ]
  },
  {
   "cell_type": "markdown",
   "metadata": {},
   "source": [
    "## Read the docs\n",
    "\n",
    "Assuming we have 4 labels:\n",
    "\n",
    "* web_dev - for web developers\n",
    "* dev - for other developers\n",
    "* embed - for embedded developers\n",
    "\n",
    "* neither - get some resumes where none of the above apply\n",
    "\n",
    "Let's construct a data set:\n",
    "\n",
    "**Note**\n",
    "The `./doc` folder is just full of copies of my resume, so our classification isn't going to be useful. You'll need to obtain a diverse set of resumes. The more, the better."
   ]
  },
  {
   "cell_type": "code",
   "execution_count": 2,
   "metadata": {},
   "outputs": [],
   "source": [
    "y_labels = ('web_dev', 'dev', 'embed', 'neither')\n",
    "\n",
    "def process_docs(path, label):\n",
    "    docs = os.listdir(path)\n",
    "    data = []\n",
    "    for doc in docs:\n",
    "        if not doc.split('.')[1].startswith('doc'):\n",
    "            continue\n",
    "        try:\n",
    "            text = textract.process(f'{path}/{doc}')\n",
    "            data.append({'label': label, 'text': text})\n",
    "        except textract.exceptions.ShellError as e:\n",
    "            print(f'{doc} is too small', e)\n",
    "    return data\n",
    "\n",
    "\n",
    "data = []\n",
    "for label in y_labels:\n",
    "    data.extend(process_docs(f'./doc/{label}', label))\n",
    "df = pd.DataFrame(data)"
   ]
  },
  {
   "cell_type": "markdown",
   "metadata": {},
   "source": [
    "## Training & Testing\n",
    "\n",
    "Here we split our data set into a training set and a test set to help validate that training set."
   ]
  },
  {
   "cell_type": "code",
   "execution_count": 3,
   "metadata": {},
   "outputs": [],
   "source": [
    "X = df['text']\n",
    "y = df['label']\n",
    "X_train, X_test, y_train, y_test = train_test_split(X, y, test_size=0.2)"
   ]
  },
  {
   "cell_type": "markdown",
   "metadata": {},
   "source": [
    "## Vectorize text and apply logistic regression\n",
    "\n",
    "Since we have multiple labels, we're using multinomial classification in our logistic regression:"
   ]
  },
  {
   "cell_type": "code",
   "execution_count": 4,
   "metadata": {},
   "outputs": [
    {
     "name": "stdout",
     "output_type": "stream",
     "text": [
      "Done.\n"
     ]
    }
   ],
   "source": [
    "vec = TfidfVectorizer(ngram_range=(1, 1), max_features=1000)\n",
    "lr = LogisticRegression(solver='lbfgs', max_iter=10000, multi_class='multinomial', class_weight='balanced')\n",
    "steps = (\n",
    "    ('text', vec), \n",
    "    ('lr', lr)\n",
    ")\n",
    "pipe = Pipeline(steps=steps)\n",
    "pipe.fit(X_train, y_train)\n",
    "print('Done.')"
   ]
  },
  {
   "cell_type": "markdown",
   "metadata": {},
   "source": [
    "## Let's try it out\n",
    "\n",
    "You could read a new doc into memory and attempt to classify. I'm just going to use this string literal here:"
   ]
  },
  {
   "cell_type": "code",
   "execution_count": 5,
   "metadata": {},
   "outputs": [
    {
     "data": {
      "text/html": [
       "<div>\n",
       "<style scoped>\n",
       "    .dataframe tbody tr th:only-of-type {\n",
       "        vertical-align: middle;\n",
       "    }\n",
       "\n",
       "    .dataframe tbody tr th {\n",
       "        vertical-align: top;\n",
       "    }\n",
       "\n",
       "    .dataframe thead th {\n",
       "        text-align: right;\n",
       "    }\n",
       "</style>\n",
       "<table border=\"1\" class=\"dataframe\">\n",
       "  <thead>\n",
       "    <tr style=\"text-align: right;\">\n",
       "      <th></th>\n",
       "      <th>web_dev</th>\n",
       "      <th>dev</th>\n",
       "      <th>embed</th>\n",
       "      <th>neither</th>\n",
       "    </tr>\n",
       "  </thead>\n",
       "  <tbody>\n",
       "    <tr>\n",
       "      <th>0</th>\n",
       "      <td>0.25</td>\n",
       "      <td>0.25</td>\n",
       "      <td>0.25</td>\n",
       "      <td>0.25</td>\n",
       "    </tr>\n",
       "  </tbody>\n",
       "</table>\n",
       "</div>"
      ],
      "text/plain": [
       "   web_dev   dev  embed  neither\n",
       "0     0.25  0.25   0.25     0.25"
      ]
     },
     "execution_count": 5,
     "metadata": {},
     "output_type": "execute_result"
    }
   ],
   "source": [
    "trial = pd.DataFrame([{'text': 'I love python and machine learning'}])\n",
    "pd.DataFrame(pipe.predict_proba(trial['text']), columns=y_labels)"
   ]
  },
  {
   "cell_type": "code",
   "execution_count": 6,
   "metadata": {},
   "outputs": [
    {
     "name": "stdout",
     "output_type": "stream",
     "text": [
      "Prediction:  dev\n"
     ]
    }
   ],
   "source": [
    "print('Prediction: ', pipe.predict(trial['text'])[0])"
   ]
  },
  {
   "cell_type": "raw",
   "metadata": {},
   "source": [
    "## Conclusion\n",
    "\n",
    "As you can see, my training set is identical, so classification is pretty useless. If you get a bunch of resumes and load them up with this process, it will be able to classify whether or not the resume belongs to a web dev, dev, embedded dev, or another profession."
   ]
  }
 ],
 "metadata": {
  "kernelspec": {
   "display_name": "Python 3",
   "language": "python",
   "name": "python3"
  },
  "language_info": {
   "codemirror_mode": {
    "name": "ipython",
    "version": 3
   },
   "file_extension": ".py",
   "mimetype": "text/x-python",
   "name": "python",
   "nbconvert_exporter": "python",
   "pygments_lexer": "ipython3",
   "version": "3.6.8"
  }
 },
 "nbformat": 4,
 "nbformat_minor": 2
}
